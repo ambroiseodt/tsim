{
 "cells": [
  {
   "cell_type": "markdown",
   "metadata": {},
   "source": [
    "## Demo to learn with the $\\mathcal{T}$-similarity\n",
    "\n",
    "In this notebook, we show how to fit and predict with the diverse ensemble estimator illustated in the Figure 2 of the original [paper](https://arxiv.org/pdf/2310.14814.pdf)."
   ]
  },
  {
   "cell_type": "code",
   "execution_count": 5,
   "metadata": {},
   "outputs": [],
   "source": [
    "%reload_ext autoreload\n",
    "%autoreload 2"
   ]
  },
  {
   "cell_type": "code",
   "execution_count": 6,
   "metadata": {},
   "outputs": [],
   "source": [
    "import matplotlib.pyplot as pl\n",
    "import numpy as np\n",
    "import seaborn as sns\n",
    "import sys\n",
    "import os\n",
    "\n",
    "sys.path.append(\"..\")\n",
    "from src.datasets.read_dataset import RealDataSet\n",
    "from src.models.diverse_ensemble import DiverseEnsembleMLP\n",
    "\n",
    "custom_params = {\"axes.grid\": False}\n",
    "sns.set_theme(style=\"ticks\", rc=custom_params)\n",
    "sns.set_context(\"talk\")\n",
    "pl.rcParams.update({\"figure.autolayout\": True})"
   ]
  },
  {
   "cell_type": "code",
   "execution_count": 7,
   "metadata": {},
   "outputs": [
    {
     "name": "stdout",
     "output_type": "stream",
     "text": [
      "Selection bias: IID\n",
      "The supervised prediction head achieves an accuracy of 97.7% on the test set.\n",
      "The average T-similarity on the test set is 0.694. \n",
      "\n",
      "Selection bias: SSB\n",
      "The supervised prediction head achieves an accuracy of 67.1% on the test set.\n",
      "The average T-similarity on the test set is 0.583. \n",
      "\n"
     ]
    }
   ],
   "source": [
    "dataset_name = \"mushrooms\"\n",
    "seed = 0\n",
    "nb_lab_samples_per_class = 40\n",
    "num_epochs = 5\n",
    "gamma = 1\n",
    "\n",
    "# Fixed params\n",
    "test_size = 0.25\n",
    "n_iters = 100\n",
    "n_classifiers = 5\n",
    "\n",
    "# Data split\n",
    "dataset = RealDataSet(dataset_name=dataset_name, seed=seed)\n",
    "\n",
    "# Percentage of labeled data\n",
    "num_classes = len(list(set(dataset.y)))\n",
    "ratio = num_classes / ((1 - test_size) * len(dataset.y))\n",
    "lab_size = nb_lab_samples_per_class * ratio\n",
    "\n",
    "real_biases = [\"IID\", \"SSB\"]\n",
    "for i, selection_bias in enumerate([False, True]):\n",
    "    # Split\n",
    "    x_l, x_u, y_l, y_u, x_test, y_test, n_classes = dataset.get_split(\n",
    "        test_size=test_size, lab_size=lab_size, selection_bias=selection_bias\n",
    "    )\n",
    "\n",
    "    # Define base classifier\n",
    "    base_classifier = DiverseEnsembleMLP(\n",
    "        num_epochs=num_epochs,\n",
    "        gamma=gamma,\n",
    "        n_iters=n_iters,\n",
    "        n_classifiers=n_classifiers,\n",
    "        device=\"cpu\",\n",
    "        verbose=False,\n",
    "        random_state=seed,\n",
    "    )\n",
    "\n",
    "    # Train\n",
    "    base_classifier.fit(x_l, y_l, x_u)\n",
    "    test_acc = (base_classifier.predict(x_test) == y_test).mean() * 100\n",
    "    tsim = base_classifier.predict_t_similarity(x_test).mean()\n",
    "    print(f\"Selection bias: {real_biases[i]}\")\n",
    "    print(\n",
    "        f\"The supervised prediction head achieves an accuracy of {test_acc:.3}% on the test set.\"\n",
    "    )\n",
    "    print(f\"The average T-similarity on the test set is {tsim:.3}. \\n\")"
   ]
  },
  {
   "cell_type": "code",
   "execution_count": null,
   "metadata": {},
   "outputs": [],
   "source": []
  }
 ],
 "metadata": {
  "kernelspec": {
   "display_name": "stenv",
   "language": "python",
   "name": "python3"
  },
  "language_info": {
   "codemirror_mode": {
    "name": "ipython",
    "version": 3
   },
   "file_extension": ".py",
   "mimetype": "text/x-python",
   "name": "python",
   "nbconvert_exporter": "python",
   "pygments_lexer": "ipython3",
   "version": "3.8.16"
  }
 },
 "nbformat": 4,
 "nbformat_minor": 2
}
